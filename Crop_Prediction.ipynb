{
  "nbformat": 4,
  "nbformat_minor": 0,
  "metadata": {
    "colab": {
      "name": " Crop_Prediction.ipynb",
      "provenance": [],
      "collapsed_sections": []
    },
    "kernelspec": {
      "name": "python3",
      "display_name": "Python 3"
    },
    "language_info": {
      "name": "python"
    }
  },
  "cells": [
    {
      "cell_type": "code",
      "execution_count": 2,
      "metadata": {
        "id": "-07hEbBzkhZb"
      },
      "outputs": [],
      "source": [
        "import pandas as pd\n",
        "import numpy as np\n",
        "from sklearn.metrics import accuracy_score\n",
        "from sklearn.ensemble import RandomForestClassifier\n",
        "from sklearn.model_selection import train_test_split"
      ]
    },
    {
      "cell_type": "code",
      "source": [
        "df=pd.read_csv('crop_recommendation.csv')\n",
        "df.head()\n",
        "df.size\n",
        "# df.dtype"
      ],
      "metadata": {
        "colab": {
          "base_uri": "https://localhost:8080/"
        },
        "id": "FARZBkMkkySA",
        "outputId": "5bb1c71a-6b46-4a27-ed56-088b4ff9d620"
      },
      "execution_count": 21,
      "outputs": [
        {
          "output_type": "execute_result",
          "data": {
            "text/plain": [
              "17600"
            ]
          },
          "metadata": {},
          "execution_count": 21
        }
      ]
    },
    {
      "cell_type": "code",
      "source": [
        "X=df[['N', 'P','K','temperature', 'humidity', 'ph', 'rainfall']]\n",
        "X"
      ],
      "metadata": {
        "colab": {
          "base_uri": "https://localhost:8080/",
          "height": 424
        },
        "id": "icDrv7t5mc4L",
        "outputId": "2827ccb4-5a55-4c38-8f03-c398ffded669"
      },
      "execution_count": 23,
      "outputs": [
        {
          "output_type": "execute_result",
          "data": {
            "text/plain": [
              "        N   P   K  temperature   humidity        ph    rainfall\n",
              "0      90  42  43    20.879744  82.002744  6.502985  202.935536\n",
              "1      85  58  41    21.770462  80.319644  7.038096  226.655537\n",
              "2      60  55  44    23.004459  82.320763  7.840207  263.964248\n",
              "3      74  35  40    26.491096  80.158363  6.980401  242.864034\n",
              "4      78  42  42    20.130175  81.604873  7.628473  262.717340\n",
              "...   ...  ..  ..          ...        ...       ...         ...\n",
              "2195  107  34  32    26.774637  66.413269  6.780064  177.774507\n",
              "2196   99  15  27    27.417112  56.636362  6.086922  127.924610\n",
              "2197  118  33  30    24.131797  67.225123  6.362608  173.322839\n",
              "2198  117  32  34    26.272418  52.127394  6.758793  127.175293\n",
              "2199  104  18  30    23.603016  60.396475  6.779833  140.937041\n",
              "\n",
              "[2200 rows x 7 columns]"
            ],
            "text/html": [
              "\n",
              "  <div id=\"df-4b82a8e4-3b50-4974-8acf-f28f0f73ebc1\">\n",
              "    <div class=\"colab-df-container\">\n",
              "      <div>\n",
              "<style scoped>\n",
              "    .dataframe tbody tr th:only-of-type {\n",
              "        vertical-align: middle;\n",
              "    }\n",
              "\n",
              "    .dataframe tbody tr th {\n",
              "        vertical-align: top;\n",
              "    }\n",
              "\n",
              "    .dataframe thead th {\n",
              "        text-align: right;\n",
              "    }\n",
              "</style>\n",
              "<table border=\"1\" class=\"dataframe\">\n",
              "  <thead>\n",
              "    <tr style=\"text-align: right;\">\n",
              "      <th></th>\n",
              "      <th>N</th>\n",
              "      <th>P</th>\n",
              "      <th>K</th>\n",
              "      <th>temperature</th>\n",
              "      <th>humidity</th>\n",
              "      <th>ph</th>\n",
              "      <th>rainfall</th>\n",
              "    </tr>\n",
              "  </thead>\n",
              "  <tbody>\n",
              "    <tr>\n",
              "      <th>0</th>\n",
              "      <td>90</td>\n",
              "      <td>42</td>\n",
              "      <td>43</td>\n",
              "      <td>20.879744</td>\n",
              "      <td>82.002744</td>\n",
              "      <td>6.502985</td>\n",
              "      <td>202.935536</td>\n",
              "    </tr>\n",
              "    <tr>\n",
              "      <th>1</th>\n",
              "      <td>85</td>\n",
              "      <td>58</td>\n",
              "      <td>41</td>\n",
              "      <td>21.770462</td>\n",
              "      <td>80.319644</td>\n",
              "      <td>7.038096</td>\n",
              "      <td>226.655537</td>\n",
              "    </tr>\n",
              "    <tr>\n",
              "      <th>2</th>\n",
              "      <td>60</td>\n",
              "      <td>55</td>\n",
              "      <td>44</td>\n",
              "      <td>23.004459</td>\n",
              "      <td>82.320763</td>\n",
              "      <td>7.840207</td>\n",
              "      <td>263.964248</td>\n",
              "    </tr>\n",
              "    <tr>\n",
              "      <th>3</th>\n",
              "      <td>74</td>\n",
              "      <td>35</td>\n",
              "      <td>40</td>\n",
              "      <td>26.491096</td>\n",
              "      <td>80.158363</td>\n",
              "      <td>6.980401</td>\n",
              "      <td>242.864034</td>\n",
              "    </tr>\n",
              "    <tr>\n",
              "      <th>4</th>\n",
              "      <td>78</td>\n",
              "      <td>42</td>\n",
              "      <td>42</td>\n",
              "      <td>20.130175</td>\n",
              "      <td>81.604873</td>\n",
              "      <td>7.628473</td>\n",
              "      <td>262.717340</td>\n",
              "    </tr>\n",
              "    <tr>\n",
              "      <th>...</th>\n",
              "      <td>...</td>\n",
              "      <td>...</td>\n",
              "      <td>...</td>\n",
              "      <td>...</td>\n",
              "      <td>...</td>\n",
              "      <td>...</td>\n",
              "      <td>...</td>\n",
              "    </tr>\n",
              "    <tr>\n",
              "      <th>2195</th>\n",
              "      <td>107</td>\n",
              "      <td>34</td>\n",
              "      <td>32</td>\n",
              "      <td>26.774637</td>\n",
              "      <td>66.413269</td>\n",
              "      <td>6.780064</td>\n",
              "      <td>177.774507</td>\n",
              "    </tr>\n",
              "    <tr>\n",
              "      <th>2196</th>\n",
              "      <td>99</td>\n",
              "      <td>15</td>\n",
              "      <td>27</td>\n",
              "      <td>27.417112</td>\n",
              "      <td>56.636362</td>\n",
              "      <td>6.086922</td>\n",
              "      <td>127.924610</td>\n",
              "    </tr>\n",
              "    <tr>\n",
              "      <th>2197</th>\n",
              "      <td>118</td>\n",
              "      <td>33</td>\n",
              "      <td>30</td>\n",
              "      <td>24.131797</td>\n",
              "      <td>67.225123</td>\n",
              "      <td>6.362608</td>\n",
              "      <td>173.322839</td>\n",
              "    </tr>\n",
              "    <tr>\n",
              "      <th>2198</th>\n",
              "      <td>117</td>\n",
              "      <td>32</td>\n",
              "      <td>34</td>\n",
              "      <td>26.272418</td>\n",
              "      <td>52.127394</td>\n",
              "      <td>6.758793</td>\n",
              "      <td>127.175293</td>\n",
              "    </tr>\n",
              "    <tr>\n",
              "      <th>2199</th>\n",
              "      <td>104</td>\n",
              "      <td>18</td>\n",
              "      <td>30</td>\n",
              "      <td>23.603016</td>\n",
              "      <td>60.396475</td>\n",
              "      <td>6.779833</td>\n",
              "      <td>140.937041</td>\n",
              "    </tr>\n",
              "  </tbody>\n",
              "</table>\n",
              "<p>2200 rows × 7 columns</p>\n",
              "</div>\n",
              "      <button class=\"colab-df-convert\" onclick=\"convertToInteractive('df-4b82a8e4-3b50-4974-8acf-f28f0f73ebc1')\"\n",
              "              title=\"Convert this dataframe to an interactive table.\"\n",
              "              style=\"display:none;\">\n",
              "        \n",
              "  <svg xmlns=\"http://www.w3.org/2000/svg\" height=\"24px\"viewBox=\"0 0 24 24\"\n",
              "       width=\"24px\">\n",
              "    <path d=\"M0 0h24v24H0V0z\" fill=\"none\"/>\n",
              "    <path d=\"M18.56 5.44l.94 2.06.94-2.06 2.06-.94-2.06-.94-.94-2.06-.94 2.06-2.06.94zm-11 1L8.5 8.5l.94-2.06 2.06-.94-2.06-.94L8.5 2.5l-.94 2.06-2.06.94zm10 10l.94 2.06.94-2.06 2.06-.94-2.06-.94-.94-2.06-.94 2.06-2.06.94z\"/><path d=\"M17.41 7.96l-1.37-1.37c-.4-.4-.92-.59-1.43-.59-.52 0-1.04.2-1.43.59L10.3 9.45l-7.72 7.72c-.78.78-.78 2.05 0 2.83L4 21.41c.39.39.9.59 1.41.59.51 0 1.02-.2 1.41-.59l7.78-7.78 2.81-2.81c.8-.78.8-2.07 0-2.86zM5.41 20L4 18.59l7.72-7.72 1.47 1.35L5.41 20z\"/>\n",
              "  </svg>\n",
              "      </button>\n",
              "      \n",
              "  <style>\n",
              "    .colab-df-container {\n",
              "      display:flex;\n",
              "      flex-wrap:wrap;\n",
              "      gap: 12px;\n",
              "    }\n",
              "\n",
              "    .colab-df-convert {\n",
              "      background-color: #E8F0FE;\n",
              "      border: none;\n",
              "      border-radius: 50%;\n",
              "      cursor: pointer;\n",
              "      display: none;\n",
              "      fill: #1967D2;\n",
              "      height: 32px;\n",
              "      padding: 0 0 0 0;\n",
              "      width: 32px;\n",
              "    }\n",
              "\n",
              "    .colab-df-convert:hover {\n",
              "      background-color: #E2EBFA;\n",
              "      box-shadow: 0px 1px 2px rgba(60, 64, 67, 0.3), 0px 1px 3px 1px rgba(60, 64, 67, 0.15);\n",
              "      fill: #174EA6;\n",
              "    }\n",
              "\n",
              "    [theme=dark] .colab-df-convert {\n",
              "      background-color: #3B4455;\n",
              "      fill: #D2E3FC;\n",
              "    }\n",
              "\n",
              "    [theme=dark] .colab-df-convert:hover {\n",
              "      background-color: #434B5C;\n",
              "      box-shadow: 0px 1px 3px 1px rgba(0, 0, 0, 0.15);\n",
              "      filter: drop-shadow(0px 1px 2px rgba(0, 0, 0, 0.3));\n",
              "      fill: #FFFFFF;\n",
              "    }\n",
              "  </style>\n",
              "\n",
              "      <script>\n",
              "        const buttonEl =\n",
              "          document.querySelector('#df-4b82a8e4-3b50-4974-8acf-f28f0f73ebc1 button.colab-df-convert');\n",
              "        buttonEl.style.display =\n",
              "          google.colab.kernel.accessAllowed ? 'block' : 'none';\n",
              "\n",
              "        async function convertToInteractive(key) {\n",
              "          const element = document.querySelector('#df-4b82a8e4-3b50-4974-8acf-f28f0f73ebc1');\n",
              "          const dataTable =\n",
              "            await google.colab.kernel.invokeFunction('convertToInteractive',\n",
              "                                                     [key], {});\n",
              "          if (!dataTable) return;\n",
              "\n",
              "          const docLinkHtml = 'Like what you see? Visit the ' +\n",
              "            '<a target=\"_blank\" href=https://colab.research.google.com/notebooks/data_table.ipynb>data table notebook</a>'\n",
              "            + ' to learn more about interactive tables.';\n",
              "          element.innerHTML = '';\n",
              "          dataTable['output_type'] = 'display_data';\n",
              "          await google.colab.output.renderOutput(dataTable, element);\n",
              "          const docLink = document.createElement('div');\n",
              "          docLink.innerHTML = docLinkHtml;\n",
              "          element.appendChild(docLink);\n",
              "        }\n",
              "      </script>\n",
              "    </div>\n",
              "  </div>\n",
              "  "
            ]
          },
          "metadata": {},
          "execution_count": 23
        }
      ]
    },
    {
      "cell_type": "code",
      "source": [
        "y=df['label']\n",
        "y.dtype"
      ],
      "metadata": {
        "id": "rUH4tdFPm2cf",
        "colab": {
          "base_uri": "https://localhost:8080/"
        },
        "outputId": "54483498-857d-40ee-c1a5-94a17ea8fe53"
      },
      "execution_count": 24,
      "outputs": [
        {
          "output_type": "execute_result",
          "data": {
            "text/plain": [
              "dtype('O')"
            ]
          },
          "metadata": {},
          "execution_count": 24
        }
      ]
    },
    {
      "cell_type": "code",
      "source": [
        "X_train,X_test,y_train,y_test=train_test_split(X,y,test_size=0.2,random_state=0)"
      ],
      "metadata": {
        "id": "tkox-no0TfVd"
      },
      "execution_count": 25,
      "outputs": []
    },
    {
      "cell_type": "code",
      "source": [
        "#we will be using One Hot Encoding in this to predic our categorical data in to numerical data\n",
        "from sklearn.preprocessing  import LabelEncoder,OneHotEncoder\n",
        "from sklearn import preprocessing\n",
        "\n",
        "labelencoder=LabelEncoder()\n",
        "y=labelencoder.fit_transform(y)\n",
        "enc= preprocessing.OneHotEncoder(sparse=False)\n",
        "y = enc.fit_transform(y.reshape([-1,1]))\n",
        "y"
      ],
      "metadata": {
        "colab": {
          "base_uri": "https://localhost:8080/"
        },
        "id": "1DpMa5Q6ngtx",
        "outputId": "a85408fd-014b-4b39-a560-afa57ed46c98"
      },
      "execution_count": 28,
      "outputs": [
        {
          "output_type": "execute_result",
          "data": {
            "text/plain": [
              "array([[0., 0., 0., ..., 0., 1., 0.],\n",
              "       [0., 0., 0., ..., 0., 1., 0.],\n",
              "       [0., 0., 0., ..., 0., 1., 0.],\n",
              "       ...,\n",
              "       [0., 0., 0., ..., 0., 0., 0.],\n",
              "       [0., 0., 0., ..., 0., 0., 0.],\n",
              "       [0., 0., 0., ..., 0., 0., 0.]])"
            ]
          },
          "metadata": {},
          "execution_count": 28
        }
      ]
    },
    {
      "cell_type": "code",
      "source": [
        "model=RandomForestClassifier()\n",
        "model.fit(X_train,y_train)"
      ],
      "metadata": {
        "colab": {
          "base_uri": "https://localhost:8080/"
        },
        "id": "TJuN21PxsbnE",
        "outputId": "4e838c06-d026-4259-c7e7-80133bc47ce9"
      },
      "execution_count": 29,
      "outputs": [
        {
          "output_type": "execute_result",
          "data": {
            "text/plain": [
              "RandomForestClassifier()"
            ]
          },
          "metadata": {},
          "execution_count": 29
        }
      ]
    },
    {
      "cell_type": "code",
      "source": [
        "y_pred=model.predict(X_test)\n",
        "y_pred"
      ],
      "metadata": {
        "colab": {
          "base_uri": "https://localhost:8080/"
        },
        "id": "gfhBorGksvLJ",
        "outputId": "988dffa9-ea9e-4dfe-9cfd-a7fce3fb9936"
      },
      "execution_count": 30,
      "outputs": [
        {
          "output_type": "execute_result",
          "data": {
            "text/plain": [
              "array(['watermelon', 'watermelon', 'grapes', 'chickpea', 'blackgram',\n",
              "       'rice', 'mothbeans', 'kidneybeans', 'muskmelon', 'banana',\n",
              "       'mothbeans', 'coffee', 'lentil', 'mungbean', 'mango', 'apple',\n",
              "       'coffee', 'lentil', 'coffee', 'mango', 'coconut', 'blackgram',\n",
              "       'kidneybeans', 'jute', 'cotton', 'coffee', 'lentil', 'orange',\n",
              "       'mothbeans', 'kidneybeans', 'pomegranate', 'rice', 'maize',\n",
              "       'muskmelon', 'coconut', 'cotton', 'mango', 'mango', 'watermelon',\n",
              "       'mothbeans', 'maize', 'blackgram', 'pigeonpeas', 'watermelon',\n",
              "       'pigeonpeas', 'mungbean', 'kidneybeans', 'kidneybeans', 'cotton',\n",
              "       'mungbean', 'mothbeans', 'blackgram', 'apple', 'muskmelon',\n",
              "       'pigeonpeas', 'banana', 'papaya', 'mango', 'lentil', 'cotton',\n",
              "       'orange', 'mungbean', 'watermelon', 'rice', 'muskmelon', 'apple',\n",
              "       'grapes', 'coffee', 'apple', 'orange', 'coconut', 'pomegranate',\n",
              "       'kidneybeans', 'maize', 'grapes', 'mothbeans', 'chickpea', 'maize',\n",
              "       'jute', 'mango', 'rice', 'blackgram', 'watermelon', 'watermelon',\n",
              "       'muskmelon', 'cotton', 'maize', 'lentil', 'mothbeans', 'papaya',\n",
              "       'blackgram', 'jute', 'mungbean', 'grapes', 'mungbean', 'maize',\n",
              "       'coffee', 'jute', 'lentil', 'chickpea', 'orange', 'jute',\n",
              "       'mungbean', 'banana', 'banana', 'rice', 'watermelon', 'coffee',\n",
              "       'pigeonpeas', 'muskmelon', 'muskmelon', 'mango', 'coffee',\n",
              "       'grapes', 'orange', 'pomegranate', 'mungbean', 'lentil', 'maize',\n",
              "       'jute', 'pomegranate', 'lentil', 'orange', 'chickpea', 'chickpea',\n",
              "       'blackgram', 'pomegranate', 'orange', 'chickpea', 'papaya',\n",
              "       'mothbeans', 'mothbeans', 'muskmelon', 'mungbean', 'maize',\n",
              "       'mungbean', 'coconut', 'pomegranate', 'orange', 'blackgram',\n",
              "       'blackgram', 'grapes', 'apple', 'coffee', 'chickpea', 'apple',\n",
              "       'jute', 'mango', 'watermelon', 'papaya', 'orange', 'coconut',\n",
              "       'mothbeans', 'banana', 'pomegranate', 'chickpea', 'watermelon',\n",
              "       'blackgram', 'apple', 'jute', 'lentil', 'pigeonpeas', 'jute',\n",
              "       'kidneybeans', 'kidneybeans', 'muskmelon', 'rice', 'muskmelon',\n",
              "       'banana', 'orange', 'pigeonpeas', 'apple', 'mothbeans', 'coconut',\n",
              "       'cotton', 'mungbean', 'kidneybeans', 'pomegranate', 'papaya',\n",
              "       'orange', 'rice', 'papaya', 'papaya', 'pigeonpeas', 'kidneybeans',\n",
              "       'banana', 'coconut', 'pigeonpeas', 'rice', 'papaya', 'maize',\n",
              "       'jute', 'mothbeans', 'rice', 'maize', 'coffee', 'pigeonpeas',\n",
              "       'coconut', 'chickpea', 'mango', 'coconut', 'pomegranate', 'maize',\n",
              "       'mothbeans', 'mothbeans', 'orange', 'muskmelon', 'maize',\n",
              "       'pigeonpeas', 'banana', 'chickpea', 'blackgram', 'pigeonpeas',\n",
              "       'orange', 'mothbeans', 'mungbean', 'mango', 'papaya', 'muskmelon',\n",
              "       'pomegranate', 'jute', 'rice', 'blackgram', 'papaya', 'blackgram',\n",
              "       'coffee', 'maize', 'coffee', 'orange', 'rice', 'mothbeans',\n",
              "       'mungbean', 'orange', 'kidneybeans', 'pomegranate', 'coconut',\n",
              "       'mango', 'mungbean', 'cotton', 'rice', 'chickpea', 'mungbean',\n",
              "       'apple', 'pigeonpeas', 'blackgram', 'rice', 'watermelon',\n",
              "       'blackgram', 'pomegranate', 'orange', 'maize', 'grapes',\n",
              "       'chickpea', 'pigeonpeas', 'jute', 'papaya', 'pomegranate',\n",
              "       'coffee', 'mango', 'mothbeans', 'jute', 'watermelon',\n",
              "       'pomegranate', 'rice', 'grapes', 'coconut', 'jute', 'lentil',\n",
              "       'chickpea', 'coffee', 'coffee', 'papaya', 'pomegranate', 'maize',\n",
              "       'rice', 'chickpea', 'pigeonpeas', 'orange', 'pomegranate',\n",
              "       'pigeonpeas', 'coconut', 'kidneybeans', 'pomegranate', 'muskmelon',\n",
              "       'mothbeans', 'mango', 'lentil', 'banana', 'blackgram', 'mango',\n",
              "       'kidneybeans', 'mango', 'cotton', 'mungbean', 'papaya', 'grapes',\n",
              "       'grapes', 'pigeonpeas', 'papaya', 'jute', 'rice', 'chickpea',\n",
              "       'muskmelon', 'coffee', 'watermelon', 'rice', 'jute', 'papaya',\n",
              "       'grapes', 'muskmelon', 'blackgram', 'mothbeans', 'mothbeans',\n",
              "       'chickpea', 'blackgram', 'mango', 'banana', 'mango', 'pomegranate',\n",
              "       'jute', 'orange', 'muskmelon', 'chickpea', 'lentil', 'cotton',\n",
              "       'papaya', 'grapes', 'kidneybeans', 'lentil', 'apple', 'rice',\n",
              "       'muskmelon', 'apple', 'papaya', 'blackgram', 'jute', 'chickpea',\n",
              "       'mothbeans', 'lentil', 'grapes', 'jute', 'kidneybeans',\n",
              "       'muskmelon', 'papaya', 'grapes', 'papaya', 'rice', 'coffee',\n",
              "       'muskmelon', 'mothbeans', 'banana', 'papaya', 'orange',\n",
              "       'kidneybeans', 'watermelon', 'pigeonpeas', 'apple', 'watermelon',\n",
              "       'watermelon', 'pigeonpeas', 'kidneybeans', 'mothbeans',\n",
              "       'kidneybeans', 'jute', 'coconut', 'cotton', 'kidneybeans',\n",
              "       'orange', 'cotton', 'pigeonpeas', 'pomegranate', 'cotton',\n",
              "       'cotton', 'apple', 'cotton', 'apple', 'orange', 'maize', 'grapes',\n",
              "       'banana', 'apple', 'mothbeans', 'rice', 'kidneybeans', 'banana',\n",
              "       'rice', 'lentil', 'chickpea', 'pomegranate', 'banana', 'chickpea',\n",
              "       'muskmelon', 'pomegranate', 'apple', 'lentil', 'muskmelon',\n",
              "       'orange', 'blackgram', 'muskmelon', 'mothbeans', 'mango',\n",
              "       'chickpea', 'pomegranate', 'mango', 'chickpea', 'coconut',\n",
              "       'muskmelon', 'banana', 'pigeonpeas', 'papaya', 'jute', 'lentil',\n",
              "       'cotton', 'rice', 'banana', 'coconut', 'rice', 'blackgram',\n",
              "       'maize', 'orange', 'watermelon', 'rice', 'apple', 'grapes',\n",
              "       'pigeonpeas', 'grapes', 'chickpea', 'mango', 'jute', 'pomegranate',\n",
              "       'maize', 'mango', 'grapes', 'banana', 'mungbean', 'pigeonpeas',\n",
              "       'banana', 'cotton', 'blackgram', 'apple'], dtype=object)"
            ]
          },
          "metadata": {},
          "execution_count": 30
        }
      ]
    },
    {
      "cell_type": "code",
      "source": [
        "score=accuracy_score(y_test,y_pred)\n",
        "score\n",
        "print('The Accuracy Score of this is :- ',score*100)"
      ],
      "metadata": {
        "colab": {
          "base_uri": "https://localhost:8080/"
        },
        "id": "lL0Wtboqs1DA",
        "outputId": "11adaf70-8cbe-4cc2-9db2-170405179b9a"
      },
      "execution_count": 33,
      "outputs": [
        {
          "output_type": "stream",
          "name": "stdout",
          "text": [
            "The Accuracy Score of this is :-  99.77272727272727\n"
          ]
        }
      ]
    },
    {
      "cell_type": "markdown",
      "source": [
        "### **Now Lets Test This using Decison Tree Classifier**"
      ],
      "metadata": {
        "id": "57xTL9d_VD3W"
      }
    },
    {
      "cell_type": "code",
      "source": [
        "from sklearn.tree import DecisionTreeClassifier\n",
        "\n",
        "DecisionTree = DecisionTreeClassifier(criterion=\"entropy\",random_state=2,max_depth=5)\n",
        "\n",
        "DecisionTree.fit(X_train,y_train)"
      ],
      "metadata": {
        "id": "DwKJvwmbtOK-",
        "colab": {
          "base_uri": "https://localhost:8080/"
        },
        "outputId": "89dfa692-95a1-43ec-c30f-221594cc31a8"
      },
      "execution_count": 34,
      "outputs": [
        {
          "output_type": "execute_result",
          "data": {
            "text/plain": [
              "DecisionTreeClassifier(criterion='entropy', max_depth=5, random_state=2)"
            ]
          },
          "metadata": {},
          "execution_count": 34
        }
      ]
    },
    {
      "cell_type": "code",
      "source": [
        "y_predicte_dt=DecisionTree.predict(X_test)\n",
        "score_dt=accuracy_score(y_predicte_dt,y_test)\n",
        "score"
      ],
      "metadata": {
        "colab": {
          "base_uri": "https://localhost:8080/"
        },
        "id": "mjrifMl2VZht",
        "outputId": "746d2a61-6b40-4afa-8b8b-9a04615d44ae"
      },
      "execution_count": 37,
      "outputs": [
        {
          "output_type": "execute_result",
          "data": {
            "text/plain": [
              "0.9977272727272727"
            ]
          },
          "metadata": {},
          "execution_count": 37
        }
      ]
    },
    {
      "cell_type": "code",
      "source": [
        ""
      ],
      "metadata": {
        "id": "chP5Zi63WBkj"
      },
      "execution_count": null,
      "outputs": []
    }
  ]
}